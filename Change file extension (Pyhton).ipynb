{
 "cells": [
  {
   "cell_type": "code",
   "execution_count": 21,
   "metadata": {},
   "outputs": [
    {
     "name": "stdout",
     "output_type": "stream",
     "text": [
      "The path does not exist\n"
     ]
    }
   ],
   "source": [
    "import os\n",
    "import sys\n",
    "\n",
    "\n",
    "\n",
    "folder = r\"C:\\Users\\Yourpath\"\n",
    "exists = os.path.exists(folder)\n",
    "\n",
    "if(exists):\n",
    "    for filename in os.listdir(folder):\n",
    "        infilename = os.path.join(folder,filename)\n",
    "        if not os.path.isfile(infilename):  #if its folder->skip\n",
    "            continue\n",
    "        oldbase = os.path.splitext(filename)\n",
    "        newname = infilename.replace('.H', '.h')\n",
    "        output = os.rename(infilename, newname)\n",
    "    print(\"Done\")\n",
    "else:\n",
    "    print(\"The path does not exist\")"
   ]
  }
 ],
 "metadata": {
  "kernelspec": {
   "display_name": "Python 3",
   "language": "python",
   "name": "python3"
  },
  "language_info": {
   "codemirror_mode": {
    "name": "ipython",
    "version": 3
   },
   "file_extension": ".py",
   "mimetype": "text/x-python",
   "name": "python",
   "nbconvert_exporter": "python",
   "pygments_lexer": "ipython3",
   "version": "3.8.5"
  }
 },
 "nbformat": 4,
 "nbformat_minor": 4
}
